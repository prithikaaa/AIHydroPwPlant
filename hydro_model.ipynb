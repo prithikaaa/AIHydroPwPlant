{
 "cells": [
  {
   "cell_type": "code",
   "execution_count": 1,
   "metadata": {},
   "outputs": [],
   "source": [
    "import numpy as np\n",
    "import pandas as pd\n",
    "from ctgan import CTGAN\n",
    "from sklearn.preprocessing import FunctionTransformer"
   ]
  },
  {
   "cell_type": "code",
   "execution_count": 2,
   "metadata": {},
   "outputs": [],
   "source": [
    "import pickle"
   ]
  },
  {
   "cell_type": "code",
   "execution_count": null,
   "metadata": {},
   "outputs": [],
   "source": [
    "original_data = pd.read_csv('hydro_pw_plant_data.csv')\n",
    "\n",
    "# Separate input features and target columns\n",
    "input_features = original_data.iloc[:, :8]  # Assuming first 8 columns are input features\n",
    "target_columns = original_data.iloc[:, 8:]  # Assuming last 3 columns are target columns\n",
    "# Apply logarithmic transformation to ensure non-negativity\n",
    "transformer = FunctionTransformer(np.log1p, np.expm1)\n",
    "transformed_target_columns = transformer.fit_transform(input_features,target_columns)\n",
    "# Initialize CTGAN synthesizer\n",
    "ctgan = CTGAN(epochs=10)\n",
    "\n",
    "# Fit the CTGAN model to your data\n",
    "ctgan.fit(original_data)\n",
    "\n",
    "# Generate synthetic data\n",
    "num_samples = 1000  # Number of synthetic samples to generate\n",
    "synthetic_samples = ctgan.sample(num_samples)\n",
    "# Reverse the logarithmic transformation to obtain original scale\n",
    "inverse_transformed_samples = transformer.inverse_transform(synthetic_samples)\n",
    "\n",
    "# Convert synthetic samples to DataFrame\n",
    "synthetic_data = pd.DataFrame(inverse_transformed_samples, columns=target_columns.columns)\n",
    "\n",
    "# Optionally, combine synthetic samples with original data\n",
    "combined_data = pd.concat([original_data, synthetic_data], ignore_index=True)\n"
   ]
  }
 ],
 "metadata": {
  "kernelspec": {
   "display_name": "venv",
   "language": "python",
   "name": "python3"
  },
  "language_info": {
   "codemirror_mode": {
    "name": "ipython",
    "version": 3
   },
   "file_extension": ".py",
   "mimetype": "text/x-python",
   "name": "python",
   "nbconvert_exporter": "python",
   "pygments_lexer": "ipython3",
   "version": "3.11.2"
  }
 },
 "nbformat": 4,
 "nbformat_minor": 2
}
